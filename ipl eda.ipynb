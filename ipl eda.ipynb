{
 "cells": [
  {
   "cell_type": "code",
   "execution_count": 1,
   "id": "0a94f3af",
   "metadata": {},
   "outputs": [],
   "source": [
    "import numpy as np\n",
    "import pandas as pd\n",
    "import matplotlib.pyplot as plt"
   ]
  },
  {
   "cell_type": "code",
   "execution_count": 2,
   "id": "f6d2d71f",
   "metadata": {},
   "outputs": [],
   "source": [
    "import seaborn as sns"
   ]
  },
  {
   "cell_type": "code",
   "execution_count": 5,
   "id": "15a5b312",
   "metadata": {},
   "outputs": [],
   "source": [
    "df = pd.read_csv(\"https://raw.githubusercontent.com/training-ml/Files/main/matches.csv\",encoding='ISO-8859-1')"
   ]
  },
  {
   "cell_type": "code",
   "execution_count": 6,
   "id": "bfd7bc72",
   "metadata": {},
   "outputs": [
    {
     "data": {
      "text/html": [
       "<div>\n",
       "<style scoped>\n",
       "    .dataframe tbody tr th:only-of-type {\n",
       "        vertical-align: middle;\n",
       "    }\n",
       "\n",
       "    .dataframe tbody tr th {\n",
       "        vertical-align: top;\n",
       "    }\n",
       "\n",
       "    .dataframe thead th {\n",
       "        text-align: right;\n",
       "    }\n",
       "</style>\n",
       "<table border=\"1\" class=\"dataframe\">\n",
       "  <thead>\n",
       "    <tr style=\"text-align: right;\">\n",
       "      <th></th>\n",
       "      <th>id</th>\n",
       "      <th>season</th>\n",
       "      <th>city</th>\n",
       "      <th>date</th>\n",
       "      <th>team1</th>\n",
       "      <th>team2</th>\n",
       "      <th>toss_winner</th>\n",
       "      <th>toss_decision</th>\n",
       "      <th>result</th>\n",
       "      <th>dl_applied</th>\n",
       "      <th>winner</th>\n",
       "      <th>win_by_runs</th>\n",
       "      <th>win_by_wickets</th>\n",
       "      <th>player_of_match</th>\n",
       "      <th>venue</th>\n",
       "      <th>umpire1</th>\n",
       "      <th>umpire2</th>\n",
       "      <th>umpire3</th>\n",
       "    </tr>\n",
       "  </thead>\n",
       "  <tbody>\n",
       "    <tr>\n",
       "      <th>0</th>\n",
       "      <td>1</td>\n",
       "      <td>2017</td>\n",
       "      <td>Hyderabad</td>\n",
       "      <td>05/04/17</td>\n",
       "      <td>Sunrisers Hyderabad</td>\n",
       "      <td>Royal Challengers Bangalore</td>\n",
       "      <td>Royal Challengers Bangalore</td>\n",
       "      <td>field</td>\n",
       "      <td>normal</td>\n",
       "      <td>0</td>\n",
       "      <td>Sunrisers Hyderabad</td>\n",
       "      <td>35</td>\n",
       "      <td>0</td>\n",
       "      <td>Yuvraj Singh</td>\n",
       "      <td>Rajiv Gandhi International Stadium, Uppal</td>\n",
       "      <td>AY Dandekar</td>\n",
       "      <td>NJ Llong</td>\n",
       "      <td>NaN</td>\n",
       "    </tr>\n",
       "    <tr>\n",
       "      <th>1</th>\n",
       "      <td>2</td>\n",
       "      <td>2017</td>\n",
       "      <td>Pune</td>\n",
       "      <td>06/04/17</td>\n",
       "      <td>Mumbai Indians</td>\n",
       "      <td>Rising Pune Supergiant</td>\n",
       "      <td>Rising Pune Supergiant</td>\n",
       "      <td>field</td>\n",
       "      <td>normal</td>\n",
       "      <td>0</td>\n",
       "      <td>Rising Pune Supergiant</td>\n",
       "      <td>0</td>\n",
       "      <td>7</td>\n",
       "      <td>SPD Smith</td>\n",
       "      <td>Maharashtra Cricket Association Stadium</td>\n",
       "      <td>A Nand Kishore</td>\n",
       "      <td>S Ravi</td>\n",
       "      <td>NaN</td>\n",
       "    </tr>\n",
       "    <tr>\n",
       "      <th>2</th>\n",
       "      <td>3</td>\n",
       "      <td>2017</td>\n",
       "      <td>Rajkot</td>\n",
       "      <td>07/04/17</td>\n",
       "      <td>Gujarat Lions</td>\n",
       "      <td>Kolkata Knight Riders</td>\n",
       "      <td>Kolkata Knight Riders</td>\n",
       "      <td>field</td>\n",
       "      <td>normal</td>\n",
       "      <td>0</td>\n",
       "      <td>Kolkata Knight Riders</td>\n",
       "      <td>0</td>\n",
       "      <td>10</td>\n",
       "      <td>CA Lynn</td>\n",
       "      <td>Saurashtra Cricket Association Stadium</td>\n",
       "      <td>Nitin Menon</td>\n",
       "      <td>CK Nandan</td>\n",
       "      <td>NaN</td>\n",
       "    </tr>\n",
       "    <tr>\n",
       "      <th>3</th>\n",
       "      <td>4</td>\n",
       "      <td>2017</td>\n",
       "      <td>Indore</td>\n",
       "      <td>08/04/17</td>\n",
       "      <td>Rising Pune Supergiant</td>\n",
       "      <td>Kings XI Punjab</td>\n",
       "      <td>Kings XI Punjab</td>\n",
       "      <td>field</td>\n",
       "      <td>normal</td>\n",
       "      <td>0</td>\n",
       "      <td>Kings XI Punjab</td>\n",
       "      <td>0</td>\n",
       "      <td>6</td>\n",
       "      <td>GJ Maxwell</td>\n",
       "      <td>Holkar Cricket Stadium</td>\n",
       "      <td>AK Chaudhary</td>\n",
       "      <td>C Shamshuddin</td>\n",
       "      <td>NaN</td>\n",
       "    </tr>\n",
       "    <tr>\n",
       "      <th>4</th>\n",
       "      <td>5</td>\n",
       "      <td>2017</td>\n",
       "      <td>Bangalore</td>\n",
       "      <td>08/04/17</td>\n",
       "      <td>Royal Challengers Bangalore</td>\n",
       "      <td>Delhi Daredevils</td>\n",
       "      <td>Royal Challengers Bangalore</td>\n",
       "      <td>bat</td>\n",
       "      <td>normal</td>\n",
       "      <td>0</td>\n",
       "      <td>Royal Challengers Bangalore</td>\n",
       "      <td>15</td>\n",
       "      <td>0</td>\n",
       "      <td>KM Jadhav</td>\n",
       "      <td>M Chinnaswamy Stadium</td>\n",
       "      <td>NaN</td>\n",
       "      <td>NaN</td>\n",
       "      <td>NaN</td>\n",
       "    </tr>\n",
       "  </tbody>\n",
       "</table>\n",
       "</div>"
      ],
      "text/plain": [
       "   id  season       city      date                        team1  \\\n",
       "0   1    2017  Hyderabad  05/04/17          Sunrisers Hyderabad   \n",
       "1   2    2017       Pune  06/04/17               Mumbai Indians   \n",
       "2   3    2017     Rajkot  07/04/17                Gujarat Lions   \n",
       "3   4    2017     Indore  08/04/17       Rising Pune Supergiant   \n",
       "4   5    2017  Bangalore  08/04/17  Royal Challengers Bangalore   \n",
       "\n",
       "                         team2                  toss_winner toss_decision  \\\n",
       "0  Royal Challengers Bangalore  Royal Challengers Bangalore         field   \n",
       "1       Rising Pune Supergiant       Rising Pune Supergiant         field   \n",
       "2        Kolkata Knight Riders        Kolkata Knight Riders         field   \n",
       "3              Kings XI Punjab              Kings XI Punjab         field   \n",
       "4             Delhi Daredevils  Royal Challengers Bangalore           bat   \n",
       "\n",
       "   result  dl_applied                       winner  win_by_runs  \\\n",
       "0  normal           0          Sunrisers Hyderabad           35   \n",
       "1  normal           0       Rising Pune Supergiant            0   \n",
       "2  normal           0        Kolkata Knight Riders            0   \n",
       "3  normal           0              Kings XI Punjab            0   \n",
       "4  normal           0  Royal Challengers Bangalore           15   \n",
       "\n",
       "   win_by_wickets player_of_match                                      venue  \\\n",
       "0               0    Yuvraj Singh  Rajiv Gandhi International Stadium, Uppal   \n",
       "1               7       SPD Smith    Maharashtra Cricket Association Stadium   \n",
       "2              10         CA Lynn     Saurashtra Cricket Association Stadium   \n",
       "3               6      GJ Maxwell                     Holkar Cricket Stadium   \n",
       "4               0       KM Jadhav                      M Chinnaswamy Stadium   \n",
       "\n",
       "          umpire1        umpire2  umpire3  \n",
       "0     AY Dandekar       NJ Llong      NaN  \n",
       "1  A Nand Kishore         S Ravi      NaN  \n",
       "2     Nitin Menon      CK Nandan      NaN  \n",
       "3    AK Chaudhary  C Shamshuddin      NaN  \n",
       "4             NaN            NaN      NaN  "
      ]
     },
     "execution_count": 6,
     "metadata": {},
     "output_type": "execute_result"
    }
   ],
   "source": [
    "df.head()"
   ]
  },
  {
   "cell_type": "code",
   "execution_count": 7,
   "id": "62cdb251",
   "metadata": {},
   "outputs": [
    {
     "name": "stdout",
     "output_type": "stream",
     "text": [
      "<class 'pandas.core.frame.DataFrame'>\n",
      "RangeIndex: 636 entries, 0 to 635\n",
      "Data columns (total 18 columns):\n",
      " #   Column           Non-Null Count  Dtype  \n",
      "---  ------           --------------  -----  \n",
      " 0   id               636 non-null    int64  \n",
      " 1   season           636 non-null    int64  \n",
      " 2   city             629 non-null    object \n",
      " 3   date             636 non-null    object \n",
      " 4   team1            636 non-null    object \n",
      " 5   team2            636 non-null    object \n",
      " 6   toss_winner      636 non-null    object \n",
      " 7   toss_decision    636 non-null    object \n",
      " 8   result           636 non-null    object \n",
      " 9   dl_applied       636 non-null    int64  \n",
      " 10  winner           633 non-null    object \n",
      " 11  win_by_runs      636 non-null    int64  \n",
      " 12  win_by_wickets   636 non-null    int64  \n",
      " 13  player_of_match  633 non-null    object \n",
      " 14  venue            636 non-null    object \n",
      " 15  umpire1          635 non-null    object \n",
      " 16  umpire2          635 non-null    object \n",
      " 17  umpire3          0 non-null      float64\n",
      "dtypes: float64(1), int64(5), object(12)\n",
      "memory usage: 89.6+ KB\n"
     ]
    }
   ],
   "source": [
    "df.info()"
   ]
  },
  {
   "cell_type": "code",
   "execution_count": 8,
   "id": "c99f8403",
   "metadata": {},
   "outputs": [
    {
     "data": {
      "text/plain": [
       "(636, 18)"
      ]
     },
     "execution_count": 8,
     "metadata": {},
     "output_type": "execute_result"
    }
   ],
   "source": [
    "df.shape"
   ]
  },
  {
   "cell_type": "code",
   "execution_count": 10,
   "id": "ecc08b79",
   "metadata": {},
   "outputs": [
    {
     "data": {
      "text/plain": [
       "Mumbai Indians                 92\n",
       "Chennai Super Kings            79\n",
       "Kolkata Knight Riders          77\n",
       "Royal Challengers Bangalore    73\n",
       "Kings XI Punjab                70\n",
       "Rajasthan Royals               63\n",
       "Delhi Daredevils               62\n",
       "Sunrisers Hyderabad            42\n",
       "Deccan Chargers                29\n",
       "Gujarat Lions                  13\n",
       "Pune Warriors                  12\n",
       "Rising Pune Supergiant         10\n",
       "Kochi Tuskers Kerala            6\n",
       "Rising Pune Supergiants         5\n",
       "Name: winner, dtype: int64"
      ]
     },
     "execution_count": 10,
     "metadata": {},
     "output_type": "execute_result"
    }
   ],
   "source": [
    "df[\"winner\"].value_counts()"
   ]
  },
  {
   "cell_type": "markdown",
   "id": "8ca3199c",
   "metadata": {},
   "source": [
    "from here we can see that mumbai indian performed best as they \n",
    "won most matches after that chennai super kings,kolkata knight riders also performed well"
   ]
  },
  {
   "cell_type": "code",
   "execution_count": 31,
   "id": "01acf5a7",
   "metadata": {},
   "outputs": [
    {
     "data": {
      "image/png": "[encoded data removed]",
      "text/plain": [
       "<Figure size 432x720 with 1 Axes>"
      ]
     },
     "metadata": {
      "needs_background": "light"
     },
     "output_type": "display_data"
    }
   ],
   "source": [
    "plt.figure(figsize = (6,10))\n",
    "sns.barplot(y= df[\"winner\"].value_counts().index,x = df[\"winner\"].value_counts())\n",
    "plt.show()"
   ]
  },
  {
   "cell_type": "code",
   "execution_count": 18,
   "id": "c90ebe6b",
   "metadata": {},
   "outputs": [
    {
     "data": {
      "text/plain": [
       "2013    76\n",
       "2012    74\n",
       "2011    73\n",
       "2010    60\n",
       "2014    60\n",
       "2016    60\n",
       "2017    59\n",
       "2015    59\n",
       "2008    58\n",
       "2009    57\n",
       "Name: season, dtype: int64"
      ]
     },
     "execution_count": 18,
     "metadata": {},
     "output_type": "execute_result"
    }
   ],
   "source": [
    "df[\"season\"].value_counts()"
   ]
  },
  {
   "cell_type": "markdown",
   "id": "78761c96",
   "metadata": {},
   "source": [
    "we can see that most matches were played in season 2013 as each team played 16 matches \n"
   ]
  },
  {
   "cell_type": "markdown",
   "id": "f14a4525",
   "metadata": {},
   "source": [
    "more matches are played in seasons = [2011,2012,2013] than rest of seasons because there were  more 9 or 10 teams in these seasons while only 8 in rest"
   ]
  },
  {
   "cell_type": "code",
   "execution_count": 20,
   "id": "52a945a9",
   "metadata": {},
   "outputs": [
    {
     "data": {
      "image/png": "[encoded data removed]",
      "text/plain": [
       "<Figure size 864x432 with 1 Axes>"
      ]
     },
     "metadata": {
      "needs_background": "light"
     },
     "output_type": "display_data"
    }
   ],
   "source": [
    "plt.figure(figsize = (12,6))\n",
    "sns.barplot(x= df[\"season\"].value_counts().index,y = df[\"season\"].value_counts())\n",
    "plt.show()"
   ]
  },
  {
   "cell_type": "code",
   "execution_count": 21,
   "id": "10bde086",
   "metadata": {},
   "outputs": [
    {
     "data": {
      "text/plain": [
       "CH Gayle          18\n",
       "YK Pathan         16\n",
       "DA Warner         15\n",
       "AB de Villiers    15\n",
       "RG Sharma         14\n",
       "                  ..\n",
       "AD Mathews         1\n",
       "LR Shukla          1\n",
       "R Bhatia           1\n",
       "A Singh            1\n",
       "BCJ Cutting        1\n",
       "Name: player_of_match, Length: 201, dtype: int64"
      ]
     },
     "execution_count": 21,
     "metadata": {},
     "output_type": "execute_result"
    }
   ],
   "source": [
    "df[\"player_of_match\"].value_counts()"
   ]
  },
  {
   "cell_type": "markdown",
   "id": "f0f61a9a",
   "metadata": {},
   "source": [
    "from above we can see that \n",
    "CH Gayle performed best overall in all season\n",
    "yk pathan also performed well\n",
    "d warner , ab devillers were among top players who got 15 man of the match"
   ]
  },
  {
   "cell_type": "code",
   "execution_count": 22,
   "id": "97916233",
   "metadata": {},
   "outputs": [
    {
     "data": {
      "text/plain": [
       "array(['Yuvraj Singh', 'SPD Smith', 'CA Lynn', 'GJ Maxwell', 'KM Jadhav',\n",
       "       'Rashid Khan', 'N Rana', 'AR Patel', 'SV Samson', 'JJ Bumrah',\n",
       "       'SP Narine', 'KA Pollard', 'AJ Tye', 'RV Uthappa', 'CJ Anderson',\n",
       "       'BA Stokes', 'NM Coulter-Nile', 'B Kumar', 'CH Gayle',\n",
       "       'KS Williamson', 'JC Buttler', 'SK Raina', 'MJ McClenaghan',\n",
       "       'MS Dhoni', 'HM Amla', 'G Gambhir', 'LH Ferguson', 'KH Pandya',\n",
       "       'Sandeep Sharma', 'DA Warner', 'RG Sharma', 'Mohammed Shami',\n",
       "       'RA Tripathi', 'RR Pant', 'JD Unadkat', 'LMP Simmons', 'DR Smith',\n",
       "       'S Dhawan', 'MM Sharma', 'SS Iyer', 'WP Saha', 'KK Nair',\n",
       "       'Mohammed Siraj', 'AT Rayudu', 'HV Patel', 'Washington Sundar',\n",
       "       'KV Sharma', 'BB McCullum', 'MEK Hussey', 'MF Maharoof',\n",
       "       'MV Boucher', 'DJ Hussey', 'SR Watson', 'V Sehwag', 'ML Hayden',\n",
       "       'YK Pathan', 'KC Sangakkara', 'JDP Oram', 'AC Gilchrist',\n",
       "       'SM Katich', 'ST Jayasuriya', 'GD McGrath', 'SE Marsh',\n",
       "       'SA Asnodkar', 'R Vinay Kumar', 'IK Pathan', 'SM Pollock',\n",
       "       'Sohail Tanvir', 'S Sreesanth', 'A Nehra', 'SC Ganguly',\n",
       "       'CRD Fernando', 'L Balaji', 'Shoaib Akhtar', 'A Mishra',\n",
       "       'DPMD Jayawardene', 'GC Smith', 'DJ Bravo', 'M Ntini',\n",
       "       'SP Goswami', 'A Kumble', 'KD Karthik', 'JA Morkel', 'P Kumar',\n",
       "       'Umar Gul', 'SR Tendulkar', 'R Dravid', 'DL Vettori', 'RP Singh',\n",
       "       'M Muralitharan', 'AB de Villiers', 'RS Bopara', 'PP Ojha',\n",
       "       'TM Dilshan', 'HH Gibbs', 'DP Nannes', 'JP Duminy', 'SB Jakati',\n",
       "       'JH Kallis', 'A Singh', 'S Badrinath', 'LRPL Taylor',\n",
       "       'Harbhajan Singh', 'R Bhatia', 'SK Warne', 'B Lee', 'BJ Hodge',\n",
       "       'LR Shukla', 'MK Pandey', 'AD Mathews', 'MK Tiwary', 'WPUJC Vaas',\n",
       "       'A Symonds', 'AA Jhunjhunwala', 'J Theron', 'AC Voges', 'NV Ojha',\n",
       "       'SL Malinga', 'M Vijay', 'KP Pietersen', 'PD Collingwood',\n",
       "       'MJ Lumb', 'TL Suman', 'RJ Harris', 'PP Chawla', 'Harmeet Singh',\n",
       "       'R Ashwin', 'R McLaren', 'M Kartik', 'DE Bollinger', 'S Anirudha',\n",
       "       'SK Trivedi', 'SB Wagh', 'PC Valthaty', 'MD Mishra', 'DW Steyn',\n",
       "       'S Sohal', 'MM Patel', 'V Kohli', 'I Sharma', 'J Botha',\n",
       "       'Iqbal Abdulla', 'P Parameswaran', 'R Sharma', 'MR Marsh',\n",
       "       'BA Bhatt', 'S Aravind', nan, 'JEC Franklin', 'RE Levi',\n",
       "       'AM Rahane', 'RA Jadeja', 'MN Samuels', 'M Morkel', 'F du Plessis',\n",
       "       'AD Mascarenhas', 'Shakib Al Hasan', 'JD Ryder', 'S Nadeem',\n",
       "       'KMDN Kulasekara', 'CL White', 'Mandeep Singh', 'P Negi',\n",
       "       'Azhar Mahmood', 'BW Hilfenhaus', 'A Chandila', 'UT Yadav',\n",
       "       'MS Bisla', 'M Vohra', 'GH Vihari', 'AJ Finch', 'JP Faulkner',\n",
       "       'MS Gony', 'DA Miller', 'DJG Sammy', 'MG Johnson', 'KK Cooper',\n",
       "       'PA Patel', 'AP Tare', 'LJ Wright', 'YS Chahal', 'PV Tambe',\n",
       "       'DJ Hooda', 'GJ Bailey', 'AD Russell', 'MA Agarwal', 'MA Starc',\n",
       "       'VR Aaron', 'TA Boult', 'EJG Morgan', 'HH Pandya', 'MC Henriques',\n",
       "       'Z Khan', 'Q de Kock', 'Mustafizur Rahman', 'SA Yadav', 'AB Dinda',\n",
       "       'CH Morris', 'CR Brathwaite', 'MP Stoinis', 'A Zampa',\n",
       "       'BCJ Cutting'], dtype=object)"
      ]
     },
     "execution_count": 22,
     "metadata": {},
     "output_type": "execute_result"
    }
   ],
   "source": [
    "df[\"player_of_match\"].unique()"
   ]
  },
  {
   "cell_type": "code",
   "execution_count": null,
   "id": "2f42f067",
   "metadata": {},
   "outputs": [],
   "source": []
  },
  {
   "cell_type": "code",
   "execution_count": 24,
   "id": "3be92ea8",
   "metadata": {},
   "outputs": [],
   "source": [
    "df2 = pd.DataFrame(df[\"player_of_match\"].value_counts())"
   ]
  },
  {
   "cell_type": "markdown",
   "id": "7c7c62eb",
   "metadata": {},
   "source": [
    "from below we can see that CH Gayle\t18\n",
    "YK Pathan\t16\n",
    "DA Warner\t15\n",
    "AB de Villiers\t15\n",
    "RG Sharma\t14\n",
    "SK Raina\t14\n",
    "MS Dhoni\t13\n",
    "G Gambhir\t13\n",
    "AM Rahane\t12\n",
    "MEK Hussey\t12\n",
    "V Sehwag\t11\n",
    "DR Smith\t11\n",
    "V Kohli\t11\n",
    "SR Watson\t10\n",
    "JH Kallis\t10\n",
    "performed great over all if we include performance in all season"
   ]
  },
  {
   "cell_type": "code",
   "execution_count": 28,
   "id": "ace73e44",
   "metadata": {
    "scrolled": true
   },
   "outputs": [
    {
     "data": {
      "text/html": [
       "<div>\n",
       "<style scoped>\n",
       "    .dataframe tbody tr th:only-of-type {\n",
       "        vertical-align: middle;\n",
       "    }\n",
       "\n",
       "    .dataframe tbody tr th {\n",
       "        vertical-align: top;\n",
       "    }\n",
       "\n",
       "    .dataframe thead th {\n",
       "        text-align: right;\n",
       "    }\n",
       "</style>\n",
       "<table border=\"1\" class=\"dataframe\">\n",
       "  <thead>\n",
       "    <tr style=\"text-align: right;\">\n",
       "      <th></th>\n",
       "      <th>player_of_match</th>\n",
       "    </tr>\n",
       "  </thead>\n",
       "  <tbody>\n",
       "    <tr>\n",
       "      <th>CH Gayle</th>\n",
       "      <td>18</td>\n",
       "    </tr>\n",
       "    <tr>\n",
       "      <th>YK Pathan</th>\n",
       "      <td>16</td>\n",
       "    </tr>\n",
       "    <tr>\n",
       "      <th>DA Warner</th>\n",
       "      <td>15</td>\n",
       "    </tr>\n",
       "    <tr>\n",
       "      <th>AB de Villiers</th>\n",
       "      <td>15</td>\n",
       "    </tr>\n",
       "    <tr>\n",
       "      <th>RG Sharma</th>\n",
       "      <td>14</td>\n",
       "    </tr>\n",
       "    <tr>\n",
       "      <th>SK Raina</th>\n",
       "      <td>14</td>\n",
       "    </tr>\n",
       "    <tr>\n",
       "      <th>MS Dhoni</th>\n",
       "      <td>13</td>\n",
       "    </tr>\n",
       "    <tr>\n",
       "      <th>G Gambhir</th>\n",
       "      <td>13</td>\n",
       "    </tr>\n",
       "    <tr>\n",
       "      <th>AM Rahane</th>\n",
       "      <td>12</td>\n",
       "    </tr>\n",
       "    <tr>\n",
       "      <th>MEK Hussey</th>\n",
       "      <td>12</td>\n",
       "    </tr>\n",
       "    <tr>\n",
       "      <th>V Sehwag</th>\n",
       "      <td>11</td>\n",
       "    </tr>\n",
       "    <tr>\n",
       "      <th>DR Smith</th>\n",
       "      <td>11</td>\n",
       "    </tr>\n",
       "    <tr>\n",
       "      <th>V Kohli</th>\n",
       "      <td>11</td>\n",
       "    </tr>\n",
       "    <tr>\n",
       "      <th>SR Watson</th>\n",
       "      <td>10</td>\n",
       "    </tr>\n",
       "    <tr>\n",
       "      <th>JH Kallis</th>\n",
       "      <td>10</td>\n",
       "    </tr>\n",
       "  </tbody>\n",
       "</table>\n",
       "</div>"
      ],
      "text/plain": [
       "                player_of_match\n",
       "CH Gayle                     18\n",
       "YK Pathan                    16\n",
       "DA Warner                    15\n",
       "AB de Villiers               15\n",
       "RG Sharma                    14\n",
       "SK Raina                     14\n",
       "MS Dhoni                     13\n",
       "G Gambhir                    13\n",
       "AM Rahane                    12\n",
       "MEK Hussey                   12\n",
       "V Sehwag                     11\n",
       "DR Smith                     11\n",
       "V Kohli                      11\n",
       "SR Watson                    10\n",
       "JH Kallis                    10"
      ]
     },
     "execution_count": 28,
     "metadata": {},
     "output_type": "execute_result"
    }
   ],
   "source": [
    "df2[df2[\"player_of_match\"]>=10]"
   ]
  },
  {
   "cell_type": "code",
   "execution_count": 81,
   "id": "2f609632",
   "metadata": {},
   "outputs": [],
   "source": [
    "df2 = df.groupby([\"season\"]).player_of_match.value_counts()"
   ]
  },
  {
   "cell_type": "code",
   "execution_count": 90,
   "id": "fc61640a",
   "metadata": {},
   "outputs": [
    {
     "data": {
      "text/plain": [
       "season  player_of_match  \n",
       "2008    SE Marsh             5\n",
       "        SR Watson            4\n",
       "        YK Pathan            4\n",
       "        AC Gilchrist         2\n",
       "        M Ntini              2\n",
       "                            ..\n",
       "2017    SS Iyer              1\n",
       "        SV Samson            1\n",
       "        WP Saha              1\n",
       "        Washington Sundar    1\n",
       "        Yuvraj Singh         1\n",
       "Name: player_of_match, Length: 435, dtype: int64"
      ]
     },
     "execution_count": 90,
     "metadata": {},
     "output_type": "execute_result"
    }
   ],
   "source": [
    "df2"
   ]
  },
  {
   "cell_type": "markdown",
   "id": "101917e2",
   "metadata": {},
   "source": [
    "sh marsh performed best in 2008"
   ]
  },
  {
   "cell_type": "code",
   "execution_count": 103,
   "id": "bb036f66",
   "metadata": {},
   "outputs": [
    {
     "data": {
      "text/plain": [
       "YK Pathan        3\n",
       "SR Tendulkar     2\n",
       "KC Sangakkara    2\n",
       "MK Pandey        2\n",
       "LRPL Taylor      2\n",
       "Name: player_of_match, dtype: int64"
      ]
     },
     "execution_count": 103,
     "metadata": {},
     "output_type": "execute_result"
    }
   ],
   "source": [
    "df[df[\"season\"]==2009].player_of_match.value_counts().head()"
   ]
  },
  {
   "cell_type": "markdown",
   "id": "4b3bd302",
   "metadata": {},
   "source": [
    "yk pathan performmed best in 2009"
   ]
  },
  {
   "cell_type": "code",
   "execution_count": 104,
   "id": "076cdbdd",
   "metadata": {},
   "outputs": [
    {
     "data": {
      "text/plain": [
       "SR Tendulkar    4\n",
       "JH Kallis       3\n",
       "A Symonds       3\n",
       "SC Ganguly      2\n",
       "KP Pietersen    2\n",
       "Name: player_of_match, dtype: int64"
      ]
     },
     "execution_count": 104,
     "metadata": {},
     "output_type": "execute_result"
    }
   ],
   "source": [
    "df[df[\"season\"]==2010].player_of_match.value_counts().head()"
   ]
  },
  {
   "cell_type": "markdown",
   "id": "64d5f65c",
   "metadata": {},
   "source": [
    "sr tendulkar performed best in 2010"
   ]
  },
  {
   "cell_type": "code",
   "execution_count": 105,
   "id": "5e2ecc18",
   "metadata": {},
   "outputs": [
    {
     "data": {
      "text/plain": [
       "CH Gayle      6\n",
       "MEK Hussey    3\n",
       "R Sharma      2\n",
       "BJ Hodge      2\n",
       "MM Patel      2\n",
       "Name: player_of_match, dtype: int64"
      ]
     },
     "execution_count": 105,
     "metadata": {},
     "output_type": "execute_result"
    }
   ],
   "source": [
    "df[df[\"season\"]==2011].player_of_match.value_counts().head()"
   ]
  },
  {
   "cell_type": "markdown",
   "id": "166f0a39",
   "metadata": {},
   "source": [
    "ch gayle performed best in 2011"
   ]
  },
  {
   "cell_type": "code",
   "execution_count": 95,
   "id": "bf2caab2",
   "metadata": {},
   "outputs": [
    {
     "data": {
      "text/plain": [
       "CH Gayle     5\n",
       "DW Steyn     3\n",
       "V Sehwag     3\n",
       "SP Narine    3\n",
       "G Gambhir    3\n",
       "Name: player_of_match, dtype: int64"
      ]
     },
     "execution_count": 95,
     "metadata": {},
     "output_type": "execute_result"
    }
   ],
   "source": [
    "df[df[\"season\"]==2012].player_of_match.value_counts().head()"
   ]
  },
  {
   "cell_type": "markdown",
   "id": "858d667a",
   "metadata": {},
   "source": [
    "ch gayle performed best in 2012"
   ]
  },
  {
   "cell_type": "code",
   "execution_count": 96,
   "id": "3b9fe7b1",
   "metadata": {},
   "outputs": [
    {
     "data": {
      "text/plain": [
       "MEK Hussey    5\n",
       "A Mishra      4\n",
       "MS Dhoni      3\n",
       "KA Pollard    3\n",
       "AM Rahane     3\n",
       "Name: player_of_match, dtype: int64"
      ]
     },
     "execution_count": 96,
     "metadata": {},
     "output_type": "execute_result"
    }
   ],
   "source": [
    "df[df[\"season\"]==2013].player_of_match.value_counts().head()"
   ]
  },
  {
   "cell_type": "markdown",
   "id": "dc7c90b9",
   "metadata": {},
   "source": [
    "mk hussey performed best in 2013"
   ]
  },
  {
   "cell_type": "code",
   "execution_count": 97,
   "id": "1c979019",
   "metadata": {},
   "outputs": [
    {
     "data": {
      "text/plain": [
       "GJ Maxwell        4\n",
       "Sandeep Sharma    3\n",
       "RA Jadeja         3\n",
       "DR Smith          3\n",
       "RV Uthappa        3\n",
       "Name: player_of_match, dtype: int64"
      ]
     },
     "execution_count": 97,
     "metadata": {},
     "output_type": "execute_result"
    }
   ],
   "source": [
    "df[df[\"season\"]==2014].player_of_match.value_counts().head()"
   ]
  },
  {
   "cell_type": "markdown",
   "id": "ae325398",
   "metadata": {},
   "source": [
    "gj maxwell performed best in 2014"
   ]
  },
  {
   "cell_type": "code",
   "execution_count": 98,
   "id": "beeebb28",
   "metadata": {},
   "outputs": [
    {
     "data": {
      "text/plain": [
       "DA Warner     4\n",
       "A Nehra       3\n",
       "AD Russell    3\n",
       "AM Rahane     3\n",
       "SK Raina      2\n",
       "Name: player_of_match, dtype: int64"
      ]
     },
     "execution_count": 98,
     "metadata": {},
     "output_type": "execute_result"
    }
   ],
   "source": [
    "df[df[\"season\"]==2015].player_of_match.value_counts().head()"
   ]
  },
  {
   "cell_type": "code",
   "execution_count": 100,
   "id": "aa3cfdf3",
   "metadata": {},
   "outputs": [
    {
     "data": {
      "text/plain": [
       "V Kohli           5\n",
       "AB de Villiers    4\n",
       "RG Sharma         4\n",
       "AJ Finch          3\n",
       "DA Warner         3\n",
       "Name: player_of_match, dtype: int64"
      ]
     },
     "execution_count": 100,
     "metadata": {},
     "output_type": "execute_result"
    }
   ],
   "source": [
    "df[df[\"season\"]==2016].player_of_match.value_counts().head()"
   ]
  },
  {
   "cell_type": "markdown",
   "id": "774ef6d3",
   "metadata": {},
   "source": [
    "v kohli performed best in 2015"
   ]
  },
  {
   "cell_type": "code",
   "execution_count": 102,
   "id": "5818bf84",
   "metadata": {},
   "outputs": [
    {
     "data": {
      "text/plain": [
       "NM Coulter-Nile    3\n",
       "BA Stokes          3\n",
       "RV Uthappa         2\n",
       "SP Narine          2\n",
       "JD Unadkat         2\n",
       "Name: player_of_match, dtype: int64"
      ]
     },
     "execution_count": 102,
     "metadata": {},
     "output_type": "execute_result"
    }
   ],
   "source": [
    "df[df[\"season\"]==2017].player_of_match.value_counts().head()"
   ]
  },
  {
   "cell_type": "markdown",
   "id": "ad87af8f",
   "metadata": {},
   "source": [
    "ben stokes and nathan couter nile performed best in 2017"
   ]
  },
  {
   "cell_type": "markdown",
   "id": "5dc32122",
   "metadata": {},
   "source": [
    "winner of ipl season wise"
   ]
  },
  {
   "cell_type": "code",
   "execution_count": 29,
   "id": "127e3329",
   "metadata": {},
   "outputs": [
    {
     "data": {
      "text/html": [
       "<div>\n",
       "<style scoped>\n",
       "    .dataframe tbody tr th:only-of-type {\n",
       "        vertical-align: middle;\n",
       "    }\n",
       "\n",
       "    .dataframe tbody tr th {\n",
       "        vertical-align: top;\n",
       "    }\n",
       "\n",
       "    .dataframe thead th {\n",
       "        text-align: right;\n",
       "    }\n",
       "</style>\n",
       "<table border=\"1\" class=\"dataframe\">\n",
       "  <thead>\n",
       "    <tr style=\"text-align: right;\">\n",
       "      <th></th>\n",
       "      <th>season</th>\n",
       "      <th>winner</th>\n",
       "    </tr>\n",
       "  </thead>\n",
       "  <tbody>\n",
       "    <tr>\n",
       "      <th>0</th>\n",
       "      <td>2017</td>\n",
       "      <td>Mumbai Indians</td>\n",
       "    </tr>\n",
       "    <tr>\n",
       "      <th>1</th>\n",
       "      <td>2008</td>\n",
       "      <td>Rajasthan Royals</td>\n",
       "    </tr>\n",
       "    <tr>\n",
       "      <th>2</th>\n",
       "      <td>2009</td>\n",
       "      <td>Deccan Chargers</td>\n",
       "    </tr>\n",
       "    <tr>\n",
       "      <th>3</th>\n",
       "      <td>2010</td>\n",
       "      <td>Chennai Super Kings</td>\n",
       "    </tr>\n",
       "    <tr>\n",
       "      <th>4</th>\n",
       "      <td>2011</td>\n",
       "      <td>Chennai Super Kings</td>\n",
       "    </tr>\n",
       "    <tr>\n",
       "      <th>5</th>\n",
       "      <td>2012</td>\n",
       "      <td>Kolkata Knight Riders</td>\n",
       "    </tr>\n",
       "    <tr>\n",
       "      <th>6</th>\n",
       "      <td>2013</td>\n",
       "      <td>Mumbai Indians</td>\n",
       "    </tr>\n",
       "    <tr>\n",
       "      <th>7</th>\n",
       "      <td>2014</td>\n",
       "      <td>Kolkata Knight Riders</td>\n",
       "    </tr>\n",
       "    <tr>\n",
       "      <th>8</th>\n",
       "      <td>2015</td>\n",
       "      <td>Mumbai Indians</td>\n",
       "    </tr>\n",
       "    <tr>\n",
       "      <th>9</th>\n",
       "      <td>2016</td>\n",
       "      <td>Sunrisers Hyderabad</td>\n",
       "    </tr>\n",
       "  </tbody>\n",
       "</table>\n",
       "</div>"
      ],
      "text/plain": [
       "   season                 winner\n",
       "0    2017         Mumbai Indians\n",
       "1    2008       Rajasthan Royals\n",
       "2    2009        Deccan Chargers\n",
       "3    2010    Chennai Super Kings\n",
       "4    2011    Chennai Super Kings\n",
       "5    2012  Kolkata Knight Riders\n",
       "6    2013         Mumbai Indians\n",
       "7    2014  Kolkata Knight Riders\n",
       "8    2015         Mumbai Indians\n",
       "9    2016    Sunrisers Hyderabad"
      ]
     },
     "execution_count": 29,
     "metadata": {},
     "output_type": "execute_result"
    }
   ],
   "source": [
    "df.drop_duplicates(subset = ['season'],keep = 'last')[['season','winner']].reset_index(drop = True)"
   ]
  },
  {
   "cell_type": "code",
   "execution_count": 30,
   "id": "687f37f9",
   "metadata": {},
   "outputs": [
    {
     "data": {
      "text/plain": [
       "M Chinnaswamy Stadium                                   66\n",
       "Eden Gardens                                            61\n",
       "Feroz Shah Kotla                                        60\n",
       "Wankhede Stadium                                        57\n",
       "Rajiv Gandhi International Stadium, Uppal               49\n",
       "MA Chidambaram Stadium, Chepauk                         48\n",
       "Punjab Cricket Association Stadium, Mohali              35\n",
       "Sawai Mansingh Stadium                                  33\n",
       "Dr DY Patil Sports Academy                              17\n",
       "Subrata Roy Sahara Stadium                              17\n",
       "Maharashtra Cricket Association Stadium                 15\n",
       "Kingsmead                                               15\n",
       "Sardar Patel Stadium, Motera                            12\n",
       "SuperSport Park                                         12\n",
       "Punjab Cricket Association IS Bindra Stadium, Mohali    11\n",
       "Dr. Y.S. Rajasekhara Reddy ACA-VDCA Cricket Stadium     11\n",
       "Brabourne Stadium                                       11\n",
       "Saurashtra Cricket Association Stadium                  10\n",
       "Himachal Pradesh Cricket Association Stadium             9\n",
       "New Wanderers Stadium                                    8\n",
       "Newlands                                                 7\n",
       "St George's Park                                         7\n",
       "Sheikh Zayed Stadium                                     7\n",
       "JSCA International Stadium Complex                       7\n",
       "Barabati Stadium                                         7\n",
       "Dubai International Cricket Stadium                      7\n",
       "Shaheed Veer Narayan Singh International Stadium         6\n",
       "Sharjah Cricket Stadium                                  6\n",
       "Holkar Cricket Stadium                                   5\n",
       "Nehru Stadium                                            5\n",
       "Green Park                                               4\n",
       "Vidarbha Cricket Association Stadium, Jamtha             3\n",
       "De Beers Diamond Oval                                    3\n",
       "Buffalo Park                                             3\n",
       "OUTsurance Oval                                          2\n",
       "Name: venue, dtype: int64"
      ]
     },
     "execution_count": 30,
     "metadata": {},
     "output_type": "execute_result"
    }
   ],
   "source": [
    "df[\"venue\"].value_counts()"
   ]
  },
  {
   "cell_type": "code",
   "execution_count": 33,
   "id": "05addbca",
   "metadata": {},
   "outputs": [
    {
     "data": {
      "image/png": "[encoded data removed]",
      "text/plain": [
       "<Figure size 432x720 with 1 Axes>"
      ]
     },
     "metadata": {
      "needs_background": "light"
     },
     "output_type": "display_data"
    }
   ],
   "source": [
    "plt.figure(figsize = (6,10))\n",
    "sns.barplot(y= df[\"venue\"].value_counts().index,x = df[\"venue\"].value_counts())\n",
    "plt.show()"
   ]
  },
  {
   "cell_type": "code",
   "execution_count": 35,
   "id": "54a32afe",
   "metadata": {},
   "outputs": [
    {
     "data": {
      "text/plain": [
       "Text(0, 0.5, 'Count')"
      ]
     },
     "execution_count": 35,
     "metadata": {},
     "output_type": "execute_result"
    },
    {
     "data": {
      "image/png": "[encoded data removed]",
      "text/plain": [
       "<Figure size 864x432 with 1 Axes>"
      ]
     },
     "metadata": {
      "needs_background": "light"
     },
     "output_type": "display_data"
    }
   ],
   "source": [
    "plt.figure(figsize = (12,6))\n",
    "sns.countplot(x = 'season',hue = \"toss_decision\",data = df)\n",
    "plt.xlabel('season',fontsize = 15)\n",
    "plt.ylabel('Count',fontsize = 15)"
   ]
  },
  {
   "cell_type": "code",
   "execution_count": 44,
   "id": "d6f2bc55",
   "metadata": {},
   "outputs": [],
   "source": [
    "bat_win_first = len(df[(df[\"toss_decision\"]==\"bat\")&(df[\"winner\"] == df[\"toss_winner\"])])"
   ]
  },
  {
   "cell_type": "code",
   "execution_count": 45,
   "id": "3e9270c9",
   "metadata": {},
   "outputs": [],
   "source": [
    "batwinfirst = len(df[(df[\"toss_decision\"]==\"field\")&(df[\"winner\"] != df[\"toss_winner\"])])\n"
   ]
  },
  {
   "cell_type": "code",
   "execution_count": 46,
   "id": "5688e537",
   "metadata": {},
   "outputs": [
    {
     "data": {
      "text/plain": [
       "286"
      ]
     },
     "execution_count": 46,
     "metadata": {},
     "output_type": "execute_result"
    }
   ],
   "source": [
    "winning_by_batfirst = bat_win_first + batwinfirst\n",
    "winning_by_batfirst"
   ]
  },
  {
   "cell_type": "code",
   "execution_count": 49,
   "id": "5843d13b",
   "metadata": {},
   "outputs": [
    {
     "data": {
      "text/plain": [
       "44.9685534591195"
      ]
     },
     "execution_count": 49,
     "metadata": {},
     "output_type": "execute_result"
    }
   ],
   "source": [
    "winning_by_batfirst_percent = 286/636\n",
    "winning_by_batfirst_percent*100"
   ]
  },
  {
   "cell_type": "markdown",
   "id": "ee2f15ed",
   "metadata": {},
   "source": [
    "team that bat first have comparetively less chance to win"
   ]
  },
  {
   "cell_type": "code",
   "execution_count": 51,
   "id": "5aa6621a",
   "metadata": {},
   "outputs": [
    {
     "data": {
      "text/plain": [
       "201"
      ]
     },
     "execution_count": 51,
     "metadata": {},
     "output_type": "execute_result"
    }
   ],
   "source": [
    "bowl_win_first = len(df[(df[\"toss_decision\"]==\"field\")&(df[\"winner\"] == df[\"toss_winner\"])])\n",
    "bowl_win_first"
   ]
  },
  {
   "cell_type": "code",
   "execution_count": 52,
   "id": "608b4749",
   "metadata": {},
   "outputs": [
    {
     "data": {
      "text/plain": [
       "149"
      ]
     },
     "execution_count": 52,
     "metadata": {},
     "output_type": "execute_result"
    }
   ],
   "source": [
    "bowlwinfirst = len(df[(df[\"toss_decision\"]==\"bat\")&(df[\"winner\"] != df[\"toss_winner\"])])\n",
    "bowlwinfirst\n"
   ]
  },
  {
   "cell_type": "code",
   "execution_count": 53,
   "id": "d32de174",
   "metadata": {},
   "outputs": [
    {
     "data": {
      "text/plain": [
       "0.550314465408805"
      ]
     },
     "execution_count": 53,
     "metadata": {},
     "output_type": "execute_result"
    }
   ],
   "source": [
    "bowlwinfirstpercentage = 350/636\n",
    "bowlwinfirstpercentage "
   ]
  },
  {
   "cell_type": "markdown",
   "id": "4284c28a",
   "metadata": {},
   "source": [
    "team that bowl first have more chances to win"
   ]
  },
  {
   "cell_type": "code",
   "execution_count": 56,
   "id": "c24581b0",
   "metadata": {},
   "outputs": [
    {
     "data": {
      "image/png": "[encoded data removed]",
      "text/plain": [
       "<Figure size 432x288 with 1 Axes>"
      ]
     },
     "metadata": {},
     "output_type": "display_data"
    }
   ],
   "source": [
    "plt.pie([winning_by_batfirst_percent*100,bowlwinfirstpercentage*100],labels = [\"batfirst\",\"bowlfirst\"],autopct = '%1.1f%%',shadow = True,startangle = 90)\n",
    "plt.title(\"bat_first vs bowl_first win\",fontsize = 15)\n",
    "plt.show()"
   ]
  },
  {
   "cell_type": "code",
   "execution_count": 64,
   "id": "51f28f85",
   "metadata": {},
   "outputs": [
    {
     "name": "stderr",
     "output_type": "stream",
     "text": [
      "C:\\Users\\sansk\\AppData\\Local\\Temp\\ipykernel_6336\\3184575903.py:2: SettingWithCopyWarning: \n",
      "A value is trying to be set on a copy of a slice from a DataFrame\n",
      "\n",
      "See the caveats in the documentation: https://pandas.pydata.org/pandas-docs/stable/user_guide/indexing.html#returning-a-view-versus-a-copy\n",
      "  df[\"fieldfirstwin\"].iloc[df[\"win_by_wickets\"]==0] = \"loss\"\n"
     ]
    },
    {
     "data": {
      "image/png": "[encoded data removed]",
      "text/plain": [
       "<Figure size 864x360 with 1 Axes>"
      ]
     },
     "metadata": {
      "needs_background": "light"
     },
     "output_type": "display_data"
    }
   ],
   "source": [
    "df[\"fieldfirstwin\"] = \"win\"\n",
    "df[\"fieldfirstwin\"].iloc[df[\"win_by_wickets\"]==0] = \"loss\"\n",
    "plt.figure(figsize = (12,5))\n",
    "sns.countplot(x = 'season',hue = \"fieldfirstwin\",data = df)\n",
    "plt.show()\n"
   ]
  },
  {
   "cell_type": "code",
   "execution_count": 71,
   "id": "545de6e5",
   "metadata": {},
   "outputs": [
    {
     "name": "stderr",
     "output_type": "stream",
     "text": [
      "C:\\Users\\sansk\\AppData\\Local\\Temp\\ipykernel_6336\\3619259862.py:2: SettingWithCopyWarning: \n",
      "A value is trying to be set on a copy of a slice from a DataFrame\n",
      "\n",
      "See the caveats in the documentation: https://pandas.pydata.org/pandas-docs/stable/user_guide/indexing.html#returning-a-view-versus-a-copy\n",
      "  df[\"bat_first_win\"].iloc[df[\"win_by_wickets\"]>0] = \"loss\"\n"
     ]
    },
    {
     "data": {
      "image/png": "[encoded data removed]",
      "text/plain": [
       "<Figure size 864x360 with 1 Axes>"
      ]
     },
     "metadata": {
      "needs_background": "light"
     },
     "output_type": "display_data"
    }
   ],
   "source": [
    "df[\"bat_first_win\"] = \"win\"\n",
    "df[\"bat_first_win\"].iloc[df[\"win_by_wickets\"]>0] = \"loss\"\n",
    "plt.figure(figsize = (12,5))\n",
    "sns.countplot(x = 'season',hue = \"bat_first_win\",data = df)\n",
    "plt.show()"
   ]
  },
  {
   "cell_type": "code",
   "execution_count": null,
   "id": "1360ed03",
   "metadata": {},
   "outputs": [],
   "source": []
  },
  {
   "cell_type": "code",
   "execution_count": 67,
   "id": "58b51429",
   "metadata": {},
   "outputs": [
    {
     "data": {
      "text/plain": [
       "HDPK Dharmasena          73\n",
       "Asad Rauf                51\n",
       "AK Chaudhary             43\n",
       "Aleem Dar                38\n",
       "BF Bowden                37\n",
       "S Ravi                   36\n",
       "BR Doctrove              34\n",
       "M Erasmus                32\n",
       "RE Koertzen              20\n",
       "S Asnani                 19\n",
       "JD Cloete                16\n",
       "CB Gaffaney              14\n",
       "AY Dandekar              13\n",
       "BG Jerling               13\n",
       "NJ Llong                 12\n",
       "KN Ananthapadmanabhan    11\n",
       "A Nand Kishore           11\n",
       "VA Kulkarni              11\n",
       "SS Hazare                11\n",
       "Nitin Menon              11\n",
       "RK Illingworth           11\n",
       "K Hariharan              10\n",
       "MR Benson                10\n",
       "S Das                    10\n",
       "DJ Harper                 9\n",
       "RM Deshpande              7\n",
       "GAV Baxter                7\n",
       "IL Howell                 7\n",
       "BNJ Oxenford              7\n",
       "C Shamshuddin             6\n",
       "SJ Davis                  6\n",
       "SD Fry                    5\n",
       "SK Tarapore               5\n",
       "CK Nandan                 5\n",
       "YC Barde                  4\n",
       "PR Reiffel                3\n",
       "AM Saheba                 3\n",
       "A Deshmukh                3\n",
       "K Bharatan                3\n",
       "AV Jayaprakash            2\n",
       "K Srinath                 2\n",
       "PG Pathak                 2\n",
       "SJA Taufel                1\n",
       "SL Shastri                1\n",
       "Name: umpire1, dtype: int64"
      ]
     },
     "execution_count": 67,
     "metadata": {},
     "output_type": "execute_result"
    }
   ],
   "source": [
    "df[\"umpire1\"].value_counts()"
   ]
  },
  {
   "cell_type": "code",
   "execution_count": 68,
   "id": "ae7f7004",
   "metadata": {},
   "outputs": [
    {
     "data": {
      "image/png": "[encoded data removed]",
      "text/plain": [
       "<Figure size 432x720 with 1 Axes>"
      ]
     },
     "metadata": {
      "needs_background": "light"
     },
     "output_type": "display_data"
    }
   ],
   "source": [
    "plt.figure(figsize = (6,10))\n",
    "sns.barplot(y= df[\"umpire1\"].value_counts().index,x = df[\"umpire1\"].value_counts())\n",
    "plt.show()"
   ]
  },
  {
   "cell_type": "markdown",
   "id": "b23e9cf6",
   "metadata": {},
   "source": [
    "kumar dharamsena is more preferred choice for umpire 1"
   ]
  },
  {
   "cell_type": "code",
   "execution_count": 69,
   "id": "a10f2357",
   "metadata": {},
   "outputs": [
    {
     "data": {
      "image/png": "[encoded data removed]",
      "text/plain": [
       "<Figure size 432x720 with 1 Axes>"
      ]
     },
     "metadata": {
      "needs_background": "light"
     },
     "output_type": "display_data"
    }
   ],
   "source": [
    "plt.figure(figsize = (6,10))\n",
    "sns.barplot(y= df[\"umpire2\"].value_counts().index,x = df[\"umpire2\"].value_counts())\n",
    "plt.show()"
   ]
  },
  {
   "cell_type": "markdown",
   "id": "961aa359",
   "metadata": {},
   "source": [
    "SJA Taufel   is most preffered choice for umpire2 "
   ]
  },
  {
   "cell_type": "code",
   "execution_count": null,
   "id": "4701f5dd",
   "metadata": {},
   "outputs": [],
   "source": []
  }
 ],
 "metadata": {
  "kernelspec": {
   "display_name": "Python 3 (ipykernel)",
   "language": "python",
   "name": "python3"
  },
  "language_info": {
   "codemirror_mode": {
    "name": "ipython",
    "version": 3
   },
   "file_extension": ".py",
   "mimetype": "text/x-python",
   "name": "python",
   "nbconvert_exporter": "python",
   "pygments_lexer": "ipython3",
   "version": "3.9.12"
  }
 },
 "nbformat": 4,
 "nbformat_minor": 5
}
